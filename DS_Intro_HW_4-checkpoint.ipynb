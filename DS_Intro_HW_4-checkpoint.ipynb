{
 "cells": [
  {
   "cell_type": "code",
   "execution_count": 240,
   "id": "c0be65b3",
   "metadata": {},
   "outputs": [],
   "source": [
    "import requests\n",
    "import json"
   ]
  },
  {
   "cell_type": "code",
   "execution_count": 249,
   "id": "6257d608",
   "metadata": {},
   "outputs": [],
   "source": [
    "dist = dict()\n",
    "key = \"please enter you key\"\n",
    "#please enter the path and the file name\n",
    "file = open(\"C:/Users/97250/Desktop/data/dests.txt\")\n",
    "data = []\n",
    "#connect to the internet page and save in the informetion of the distance\n",
    "for line in file:    \n",
    "    data.append(line.strip())\n",
    "#the url with all the cities\n",
    "url = \"https://maps.googleapis.com/maps/api/distancematrix/json?origins=jerusalem&destinations=\" + \"|\".join(data)+ \"&key=\" + key\n",
    "try:\n",
    "    response = requests.get(url)\n",
    "    if not response.status_code == 200:\n",
    "        print(\"HTTP error\")\n",
    "    else:\n",
    "        response = requests.get(url)\n",
    "        response_json = response.json()\n",
    "except:\n",
    "    print(\"Something went wrong with requests.get\")"
   ]
  },
  {
   "cell_type": "code",
   "execution_count": 256,
   "id": "f9b9d44f",
   "metadata": {},
   "outputs": [],
   "source": [
    "#connect to the internet page and save in the informetion of the lat and lng\n",
    "url_location = \"https://maps.googleapis.com/maps/api/geocode/json?address=\" + \"|\".join(data) + \"&key=\" + key\n",
    "response = requests.get(url_location)\n",
    "if not response.status_code == 200:\n",
    "    print(\"HTTP error\")\n",
    "else:\n",
    "     response = requests.get(url_location)\n",
    "     loc_json = response.json()"
   ]
  },
  {
   "cell_type": "code",
   "execution_count": 257,
   "id": "88d8193e",
   "metadata": {
    "scrolled": true
   },
   "outputs": [
    {
     "name": "stdout",
     "output_type": "stream",
     "text": [
      "Istanbul\n",
      " distance from Jerusalem: 1,809 km; duration: 1242\n",
      "Amsterdam\n",
      " distance from Jerusalem: 4,528 km; duration: 2853\n",
      "Valletta\n",
      " distance from Jerusalem: 3,783 km; duration: 3029\n",
      "Basel\n",
      " distance from Jerusalem: 4,091 km; duration: 2623\n",
      "Doha\n",
      " distance from Jerusalem: 2,104 km; duration: 1311\n"
     ]
    }
   ],
   "source": [
    "#print the distance and duration\n",
    "for i in range(len(data)):\n",
    "    x =  \"\\n distance from Jerusalem: \" + response_json['rows'][0]['elements'][i]['distance']['text'] + \"; duration: \"\n",
    "    time = str(round(response_json['rows'][0]['elements'][i]['duration']['value']/60))\n",
    "    print(data[i] + x + time)"
   ]
  },
  {
   "cell_type": "code",
   "execution_count": 252,
   "id": "c3138ef8",
   "metadata": {},
   "outputs": [
    {
     "name": "stdout",
     "output_type": "stream",
     "text": [
      "Istanbul\n",
      "{'lat': 41.0082376, 'lng': 28.9783589}\n",
      "Amsterdam\n",
      "{'lat': 52.3675734, 'lng': 4.9041389}\n",
      "Valletta\n",
      "{'lat': 25.2854473, 'lng': 51.53103979999999}\n",
      "Basel\n",
      "{'lat': 35.8989085, 'lng': 14.5145528}\n",
      "Doha\n",
      "{'lat': 47.5595986, 'lng': 7.5885761}\n"
     ]
    }
   ],
   "source": [
    "#print the lat and lng\n",
    "for i in range(len(data)):\n",
    "    x = data[i] + \"\\n\" + str(loc_json['results'][i]['geometry']['location'])\n",
    "    print(x)"
   ]
  },
  {
   "cell_type": "code",
   "execution_count": 258,
   "id": "97e72626",
   "metadata": {},
   "outputs": [
    {
     "name": "stdout",
     "output_type": "stream",
     "text": [
      "Istanbul \n",
      " distance from Jerusalem:  1,809 km \n",
      " The duration:  20 hours 42 mins \n",
      " lat: 41.0082376 \n",
      " lng: 28.9783589\n",
      "Amsterdam \n",
      " distance from Jerusalem:  4,528 km \n",
      " The duration:  2 days 0 hours \n",
      " lat: 52.3675734 \n",
      " lng: 4.9041389\n",
      "Valletta \n",
      " distance from Jerusalem:  3,783 km \n",
      " The duration:  2 days 2 hours \n",
      " lat: 25.2854473 \n",
      " lng: 51.53103979999999\n",
      "Basel \n",
      " distance from Jerusalem:  4,091 km \n",
      " The duration:  1 day 20 hours \n",
      " lat: 35.8989085 \n",
      " lng: 14.5145528\n",
      "Doha \n",
      " distance from Jerusalem:  2,104 km \n",
      " The duration:  21 hours 51 mins \n",
      " lat: 47.5595986 \n",
      " lng: 7.5885761\n"
     ]
    }
   ],
   "source": [
    "#save all the data in dict (we celled it 'dist') and print it\n",
    "for i in range(len(data)):  \n",
    "    x = response_json['rows'][0]['elements'][i]['distance']['text']\n",
    "    time = str(response_json['rows'][0]['elements'][i]['duration']['text'])\n",
    "    lat = loc_json['results'][i]['geometry']['location']['lat']\n",
    "    lng = loc_json['results'][i]['geometry']['location']['lng']\n",
    "    info_ = (x, time,lat,lng)\n",
    "    dist[data[i]] = info_\n",
    "for i in dist:\n",
    "    print(i, \"\\n distance from Jerusalem: \", dist[i][0], \"\\n The duration: \",dist[i][1],\"\\n lat:\", dist[i][2], \"\\n lng:\", dist[i][3])"
   ]
  },
  {
   "cell_type": "code",
   "execution_count": 255,
   "id": "3fb41c97",
   "metadata": {},
   "outputs": [
    {
     "name": "stdout",
     "output_type": "stream",
     "text": [
      "The 3 furthest cities from Jerusalem are:\n",
      "Amsterdam 4528 km from Jerusalem\n",
      "Basel 4091 km from Jerusalem\n",
      "Valletta 3783 km from Jerusalem\n"
     ]
    }
   ],
   "source": [
    "#The 3 furthest cities from Jerusalem\n",
    "\n",
    "far = []\n",
    "for i in dist:\n",
    "    far.append(int(dist[i][0].split()[0].replace(\",\", \"\")))\n",
    "far.sort(reverse = True)\n",
    "print (\"The 3 furthest cities from Jerusalem are:\")\n",
    "for i in range(3):\n",
    "    for k,v in dist.items():\n",
    "        z = v[0].split()[0].replace(\",\", \"\")\n",
    "        z = int(z)\n",
    "        if z==far[i]:\n",
    "            print(k, far[i], \"km from Jerusalem\")"
   ]
  },
  {
   "cell_type": "code",
   "execution_count": null,
   "id": "1921d24e",
   "metadata": {},
   "outputs": [],
   "source": []
  }
 ],
 "metadata": {
  "kernelspec": {
   "display_name": "Python 3 (ipykernel)",
   "language": "python",
   "name": "python3"
  },
  "language_info": {
   "codemirror_mode": {
    "name": "ipython",
    "version": 3
   },
   "file_extension": ".py",
   "mimetype": "text/x-python",
   "name": "python",
   "nbconvert_exporter": "python",
   "pygments_lexer": "ipython3",
   "version": "3.9.7"
  }
 },
 "nbformat": 4,
 "nbformat_minor": 5
}
